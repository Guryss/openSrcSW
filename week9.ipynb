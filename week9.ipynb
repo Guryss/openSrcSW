{
  "metadata": {
    "language_info": {
      "codemirror_mode": {
        "name": "python",
        "version": 3
      },
      "file_extension": ".py",
      "mimetype": "text/x-python",
      "name": "python",
      "nbconvert_exporter": "python",
      "pygments_lexer": "ipython3",
      "version": "3.8"
    },
    "kernelspec": {
      "name": "python",
      "display_name": "Pyolite",
      "language": "python"
    }
  },
  "nbformat_minor": 4,
  "nbformat": 4,
  "cells": [
    {
      "cell_type": "code",
      "source": "#실습 1\n\nnum = 456;\nhour = int(num / 60);\nsec = num - hour*60;\nprint(num,\"분은 \",hour,\"시간 \",sec,\"분 입니다.\")",
      "metadata": {
        "trusted": true
      },
      "execution_count": 3,
      "outputs": [
        {
          "name": "stdout",
          "text": "456 분은  7 시간  36 분 입니다.\n",
          "output_type": "stream"
        }
      ]
    },
    {
      "cell_type": "code",
      "source": "#실습 2\n\ndic = {\"홍길동\":3.4, \"임꺽정\":4.0, \"김철수\":2.8, \"이영희\":3.9}\n\nname = list(dic.keys())\nname.sort()\nprint(name)\nkey = name[0]\nvalue = dic[key]\nprint(key,value)",
      "metadata": {
        "trusted": true
      },
      "execution_count": 4,
      "outputs": [
        {
          "name": "stdout",
          "text": "['김철수', '이영희', '임꺽정', '홍길동']\n김철수 2.8\n",
          "output_type": "stream"
        }
      ]
    }
  ]
}