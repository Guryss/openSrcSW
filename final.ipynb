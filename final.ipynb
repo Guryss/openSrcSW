{
 "cells": [
  {
   "cell_type": "code",
   "execution_count": 9,
   "id": "22bb9b32",
   "metadata": {},
   "outputs": [
    {
     "name": "stdout",
     "output_type": "stream",
     "text": [
      "백신이 가장 많이 접종된 날\n",
      "2022-03-24\n",
      "백신이 가장 적게 접종된 날\n",
      "2021-02-23\n"
     ]
    }
   ],
   "source": [
    "import csv\n",
    "f=open('country_vaccinations.csv')\n",
    "data = csv.reader(f)\n",
    "header = next(data)\n",
    "max_date=''\n",
    "max_vac=-999\n",
    "min_date=''\n",
    "min_vac=999\n",
    "\n",
    "for row in data:\n",
    "    if row[8]=='':\n",
    "        row[8]=-999\n",
    "    row[8]=float(row[8])\n",
    "    if max_vac<row[8]:\n",
    "        max_vac=row[8]\n",
    "        max_date=row[2]\n",
    "    if min_vac>row[8]:\n",
    "        min_vac=row[8]\n",
    "        min_date=row[2]\n",
    "f.close()\n",
    "\n",
    "print(\"백신이 가장 많이 접종된 날\")\n",
    "print(max_date)\n",
    "print(\"백신이 가장 적게 접종된 날\")\n",
    "print(min_date)"
   ]
  },
  {
   "cell_type": "code",
   "execution_count": 22,
   "id": "baebadc8",
   "metadata": {},
   "outputs": [
    {
     "ename": "TypeError",
     "evalue": "list indices must be integers or slices, not str",
     "output_type": "error",
     "traceback": [
      "\u001b[1;31m---------------------------------------------------------------------------\u001b[0m",
      "\u001b[1;31mTypeError\u001b[0m                                 Traceback (most recent call last)",
      "Input \u001b[1;32mIn [22]\u001b[0m, in \u001b[0;36m<cell line: 13>\u001b[1;34m()\u001b[0m\n\u001b[0;32m     14\u001b[0m \u001b[38;5;28mlist\u001b[39m \u001b[38;5;241m=\u001b[39m row[\u001b[38;5;241m-\u001b[39m\u001b[38;5;241m3\u001b[39m]\u001b[38;5;241m.\u001b[39msplit(\u001b[38;5;124m'\u001b[39m\u001b[38;5;124m,\u001b[39m\u001b[38;5;124m'\u001b[39m)\n\u001b[0;32m     15\u001b[0m \u001b[38;5;28;01mfor\u001b[39;00m i \u001b[38;5;129;01min\u001b[39;00m \u001b[38;5;28mlist\u001b[39m:\n\u001b[1;32m---> 16\u001b[0m     \u001b[38;5;28;01mif\u001b[39;00m \u001b[38;5;28;43mlist\u001b[39;49m\u001b[43m[\u001b[49m\u001b[43mi\u001b[49m\u001b[43m]\u001b[49m\u001b[38;5;241m==\u001b[39m\u001b[38;5;124m'\u001b[39m\u001b[38;5;124mJohnson&Johnson\u001b[39m\u001b[38;5;124m'\u001b[39m:\n\u001b[0;32m     17\u001b[0m         count1\u001b[38;5;241m+\u001b[39m\u001b[38;5;241m=\u001b[39m\u001b[38;5;241m1\u001b[39m\n\u001b[0;32m     18\u001b[0m     \u001b[38;5;28;01melif\u001b[39;00m \u001b[38;5;28mlist\u001b[39m[i]\u001b[38;5;241m==\u001b[39m\u001b[38;5;124m'\u001b[39m\u001b[38;5;124mOxford/AstraZeneca\u001b[39m\u001b[38;5;124m'\u001b[39m:\n",
      "\u001b[1;31mTypeError\u001b[0m: list indices must be integers or slices, not str"
     ]
    }
   ],
   "source": [
    "import csv\n",
    "import pandas as pd\n",
    "f=open('country_vaccinations.csv')\n",
    "data = csv.reader(f)\n",
    "header = next(data)\n",
    "frame = pd.DataFrame(index=['Johnson&Johnson', 'Oxford/AstraZeneca', 'Pfizer/BioNTech', 'Sinopharm/Beijing'],)\n",
    "#frame\n",
    "\n",
    "count1=0\n",
    "count2=0\n",
    "count3=0\n",
    "count4=0\n",
    "for row in data:\n",
    "    list = row[-3].split(',')\n",
    "    for i in list:\n",
    "        if list[i]=='Johnson&Johnson':\n",
    "            count1+=1\n",
    "        elif list[i]=='Oxford/AstraZeneca':\n",
    "            count2+=1\n",
    "        elif list[i]=='Pfizer/BioNTech':\n",
    "            count3+=1\n",
    "        elif list[i]=='Sinopharm/Beijing':\n",
    "            count4+=1\n",
    "        else:\n",
    "            break\n"
   ]
  },
  {
   "cell_type": "code",
   "execution_count": null,
   "id": "470e9aa7",
   "metadata": {},
   "outputs": [],
   "source": [
    "import csv\n",
    "import pandas as pd\n"
   ]
  }
 ],
 "metadata": {
  "kernelspec": {
   "display_name": "Python 3 (ipykernel)",
   "language": "python",
   "name": "python3"
  },
  "language_info": {
   "codemirror_mode": {
    "name": "ipython",
    "version": 3
   },
   "file_extension": ".py",
   "mimetype": "text/x-python",
   "name": "python",
   "nbconvert_exporter": "python",
   "pygments_lexer": "ipython3",
   "version": "3.10.4"
  }
 },
 "nbformat": 4,
 "nbformat_minor": 5
}
